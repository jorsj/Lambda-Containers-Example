{
 "cells": [
  {
   "cell_type": "code",
   "execution_count": 1,
   "id": "4fa25c97-4b5c-47f4-b52e-cfaf3d4f6910",
   "metadata": {},
   "outputs": [
    {
     "name": "stdout",
     "output_type": "stream",
     "text": [
      "Sending build context to Docker daemon  10.75kB\n",
      "Step 1/6 : FROM public.ecr.aws/lambda/python:3.8\n",
      "3.8: Pulling from lambda/python\n",
      "\n",
      "\u001b[1B05ee2f9c: Pulling fs layer \n",
      "\u001b[1B248b7daa: Pulling fs layer \n",
      "\u001b[1Bf086ab27: Pulling fs layer \n",
      "\u001b[1B043af787: Pulling fs layer \n",
      "\u001b[1B41c860bf: Pulling fs layer \n",
      "\u001b[1Bce78328e: Pull complete .07MB/16.07MBB\u001b[5A\u001b[2K\u001b[6A\u001b[2K\u001b[6A\u001b[2K\u001b[6A\u001b[2K\u001b[6A\u001b[2K\u001b[6A\u001b[2K\u001b[6A\u001b[2K\u001b[3A\u001b[2K\u001b[6A\u001b[2K\u001b[3A\u001b[2K\u001b[6A\u001b[2K\u001b[6A\u001b[2K\u001b[6A\u001b[2K\u001b[2A\u001b[2K\u001b[3A\u001b[2K\u001b[3A\u001b[2K\u001b[6A\u001b[2K\u001b[6A\u001b[2K\u001b[6A\u001b[2K\u001b[2A\u001b[2K\u001b[2A\u001b[2K\u001b[2A\u001b[2K\u001b[6A\u001b[2K\u001b[2A\u001b[2K\u001b[6A\u001b[2K\u001b[2A\u001b[2K\u001b[6A\u001b[2K\u001b[2A\u001b[2K\u001b[6A\u001b[2K\u001b[2A\u001b[2K\u001b[6A\u001b[2K\u001b[2A\u001b[2K\u001b[6A\u001b[2K\u001b[2A\u001b[2K\u001b[6A\u001b[2K\u001b[2A\u001b[2K\u001b[1A\u001b[2K\u001b[2A\u001b[2K\u001b[6A\u001b[2K\u001b[2A\u001b[2K\u001b[1A\u001b[2K\u001b[2A\u001b[2K\u001b[1A\u001b[2K\u001b[2A\u001b[2K\u001b[1A\u001b[2K\u001b[2A\u001b[2K\u001b[1A\u001b[2K\u001b[6A\u001b[2K\u001b[2A\u001b[2K\u001b[6A\u001b[2K\u001b[2A\u001b[2K\u001b[6A\u001b[2K\u001b[2A\u001b[2K\u001b[2A\u001b[2K\u001b[1A\u001b[2K\u001b[6A\u001b[2K\u001b[6A\u001b[2K\u001b[6A\u001b[2K\u001b[6A\u001b[2K\u001b[6A\u001b[2K\u001b[6A\u001b[2K\u001b[6A\u001b[2K\u001b[6A\u001b[2K\u001b[6A\u001b[2K\u001b[6A\u001b[2K\u001b[6A\u001b[2K\u001b[6A\u001b[2K\u001b[6A\u001b[2K\u001b[6A\u001b[2K\u001b[6A\u001b[2K\u001b[6A\u001b[2K\u001b[6A\u001b[2K\u001b[6A\u001b[2K\u001b[6A\u001b[2K\u001b[6A\u001b[2K\u001b[6A\u001b[2K\u001b[5A\u001b[2K\u001b[5A\u001b[2K\u001b[4A\u001b[2K\u001b[3A\u001b[2K\u001b[2A\u001b[2K\u001b[2A\u001b[2K\u001b[2A\u001b[2K\u001b[2A\u001b[2K\u001b[2A\u001b[2K\u001b[2A\u001b[2K\u001b[2A\u001b[2K\u001b[2A\u001b[2K\u001b[2A\u001b[2K\u001b[2A\u001b[2K\u001b[2A\u001b[2K\u001b[2A\u001b[2K\u001b[1A\u001b[2K\u001b[1A\u001b[2K\u001b[1A\u001b[2K\u001b[1A\u001b[2K\u001b[1A\u001b[2K\u001b[1A\u001b[2K\u001b[1A\u001b[2K\u001b[1A\u001b[2KDigest: sha256:dcec21b740c57ae1fe63fd050557b6f2ab34269dd484d5678dea0065ce7480bf\n",
      "Status: Downloaded newer image for public.ecr.aws/lambda/python:3.8\n",
      " ---> 6c5d42f987c5\n",
      "Step 2/6 : WORKDIR /app\n",
      " ---> Running in 4c543add99aa\n",
      "Removing intermediate container 4c543add99aa\n",
      " ---> 345f5a12d872\n",
      "Step 3/6 : COPY requirements.txt  .\n",
      " ---> b172c55ab8c3\n",
      "Step 4/6 : RUN  pip3 install -r requirements.txt\n",
      " ---> Running in 2aba1394f0ec\n",
      "Collecting pandas==1.2.5\n",
      "  Downloading pandas-1.2.5-cp38-cp38-manylinux_2_5_x86_64.manylinux1_x86_64.whl (9.7 MB)\n",
      "Collecting awswrangler==2.9.0\n",
      "  Downloading awswrangler-2.9.0-py3-none-any.whl (183 kB)\n",
      "Collecting boto3==1.17.103\n",
      "  Downloading boto3-1.17.103-py2.py3-none-any.whl (131 kB)\n",
      "Collecting pytz>=2017.3\n",
      "  Downloading pytz-2021.1-py2.py3-none-any.whl (510 kB)\n",
      "Collecting python-dateutil>=2.7.3\n",
      "  Downloading python_dateutil-2.8.2-py2.py3-none-any.whl (247 kB)\n",
      "Collecting numpy>=1.16.5\n",
      "  Downloading numpy-1.21.1-cp38-cp38-manylinux_2_12_x86_64.manylinux2010_x86_64.whl (15.8 MB)\n",
      "Collecting redshift-connector~=2.0.0\n",
      "  Downloading redshift_connector-2.0.883-py3-none-any.whl (93 kB)\n",
      "Collecting pg8000<1.20.0,>=1.16.0\n",
      "  Downloading pg8000-1.19.5-py3-none-any.whl (34 kB)\n",
      "Collecting numpy>=1.16.5\n",
      "  Downloading numpy-1.20.3-cp38-cp38-manylinux_2_12_x86_64.manylinux2010_x86_64.whl (15.4 MB)\n",
      "Collecting openpyxl~=3.0.0\n",
      "  Downloading openpyxl-3.0.7-py2.py3-none-any.whl (243 kB)\n",
      "Collecting pyarrow<4.1.0,>=2.0.0\n",
      "  Downloading pyarrow-4.0.1-cp38-cp38-manylinux2014_x86_64.whl (21.9 MB)\n",
      "Collecting pymysql<1.1.0,>=0.9.0\n",
      "  Downloading PyMySQL-1.0.2-py3-none-any.whl (43 kB)\n",
      "Collecting botocore<2.0.0,>=1.19.8\n",
      "  Downloading botocore-1.21.2-py3-none-any.whl (7.7 MB)\n",
      "Collecting jmespath<1.0.0,>=0.7.1\n",
      "  Downloading jmespath-0.10.0-py2.py3-none-any.whl (24 kB)\n",
      "Collecting botocore<2.0.0,>=1.19.8\n",
      "  Downloading botocore-1.20.112-py2.py3-none-any.whl (7.7 MB)\n",
      "Collecting s3transfer<0.5.0,>=0.4.0\n",
      "  Downloading s3transfer-0.4.2-py2.py3-none-any.whl (79 kB)\n",
      "Collecting urllib3<1.27,>=1.25.4\n",
      "  Downloading urllib3-1.26.6-py2.py3-none-any.whl (138 kB)\n",
      "Collecting et-xmlfile\n",
      "  Downloading et_xmlfile-1.1.0-py3-none-any.whl (4.7 kB)\n",
      "Collecting scramp==1.4.0\n",
      "  Downloading scramp-1.4.0-py3-none-any.whl (8.4 kB)\n",
      "Collecting asn1crypto==1.4.0\n",
      "  Downloading asn1crypto-1.4.0-py2.py3-none-any.whl (104 kB)\n",
      "Collecting six>=1.5\n",
      "  Downloading six-1.16.0-py2.py3-none-any.whl (11 kB)\n",
      "Collecting requests<2.25.2,>=2.23.0\n",
      "  Downloading requests-2.25.1-py2.py3-none-any.whl (61 kB)\n",
      "Collecting lxml>=4.6.2\n",
      "  Downloading lxml-4.6.3-cp38-cp38-manylinux2014_x86_64.whl (6.8 MB)\n",
      "Collecting beautifulsoup4<5.0.0,>=4.7.0\n",
      "  Downloading beautifulsoup4-4.9.3-py3-none-any.whl (115 kB)\n",
      "Collecting soupsieve>1.2\n",
      "  Downloading soupsieve-2.2.1-py3-none-any.whl (33 kB)\n",
      "Collecting chardet<5,>=3.0.2\n",
      "  Downloading chardet-4.0.0-py2.py3-none-any.whl (178 kB)\n",
      "Collecting certifi>=2017.4.17\n",
      "  Downloading certifi-2021.5.30-py2.py3-none-any.whl (145 kB)\n",
      "Collecting idna<3,>=2.5\n",
      "  Downloading idna-2.10-py2.py3-none-any.whl (58 kB)\n",
      "Installing collected packages: six, urllib3, python-dateutil, jmespath, botocore, soupsieve, s3transfer, idna, chardet, certifi, asn1crypto, scramp, requests, pytz, numpy, lxml, et-xmlfile, boto3, beautifulsoup4, redshift-connector, pymysql, pyarrow, pg8000, pandas, openpyxl, awswrangler\n",
      "Successfully installed asn1crypto-1.4.0 awswrangler-2.9.0 beautifulsoup4-4.9.3 boto3-1.17.103 botocore-1.20.112 certifi-2021.5.30 chardet-4.0.0 et-xmlfile-1.1.0 idna-2.10 jmespath-0.10.0 lxml-4.6.3 numpy-1.20.3 openpyxl-3.0.7 pandas-1.2.5 pg8000-1.19.5 pyarrow-4.0.1 pymysql-1.0.2 python-dateutil-2.8.2 pytz-2021.1 redshift-connector-2.0.883 requests-2.25.1 s3transfer-0.4.2 scramp-1.4.0 six-1.16.0 soupsieve-2.2.1 urllib3-1.26.6\n",
      "\u001b[91mWARNING: Running pip as root will break packages and permissions. You should install packages reliably by using venv: https://pip.pypa.io/warnings/venv\n",
      "\u001b[0m\u001b[91mWARNING: You are using pip version 21.1.1; however, version 21.1.3 is available.\n",
      "You should consider upgrading via the '/var/lang/bin/python3.8 -m pip install --upgrade pip' command.\n",
      "\u001b[0mRemoving intermediate container 2aba1394f0ec\n",
      " ---> 6fb97327d437\n",
      "Step 5/6 : COPY  app.py  .\n",
      " ---> d8f610cb7c22\n",
      "Step 6/6 : CMD [\"/app/app.handler\"]\n",
      " ---> Running in a75aca695793\n",
      "Removing intermediate container a75aca695793\n",
      " ---> 2f0e4972cb27\n",
      "Successfully built 2f0e4972cb27\n",
      "Successfully tagged uach/ingress:v0.0.1\n"
     ]
    }
   ],
   "source": [
    "# Build the image with tag uach/ingress:v0.0.1\n",
    "!docker build . -t uach/ingress:v0.0.1"
   ]
  },
  {
   "cell_type": "code",
   "execution_count": 3,
   "id": "372907d4-fa72-4a70-9638-2500252b4e46",
   "metadata": {},
   "outputs": [
    {
     "name": "stdout",
     "output_type": "stream",
     "text": [
      "REPOSITORY                     TAG       IMAGE ID       CREATED          SIZE\n",
      "uach/ingress                   v0.0.1    2f0e4972cb27   25 seconds ago   957MB\n",
      "public.ecr.aws/lambda/python   3.8       6c5d42f987c5   3 days ago       603MB\n"
     ]
    }
   ],
   "source": [
    "# List images on local\n",
    "!docker images"
   ]
  },
  {
   "cell_type": "code",
   "execution_count": 9,
   "id": "1d66c64d-08b3-42b9-ad1b-da71041e36b2",
   "metadata": {},
   "outputs": [
    {
     "name": "stdout",
     "output_type": "stream",
     "text": [
      "WARNING! Your password will be stored unencrypted in /home/jorgesierra/.docker/config.json.\n",
      "Configure a credential helper to remove this warning. See\n",
      "https://docs.docker.com/engine/reference/commandline/login/#credentials-store\n",
      "\n",
      "Login Succeeded\n"
     ]
    }
   ],
   "source": [
    "# Authenticate the Docker CLI to your Amazon ECR registry\n",
    "!aws ecr get-login-password --region us-east-1 | docker login --username AWS --password-stdin 216117377630.dkr.ecr.us-east-1.amazonaws.com"
   ]
  },
  {
   "cell_type": "code",
   "execution_count": 12,
   "id": "5e90306b-ef81-4fc4-8f57-a3f038d914f0",
   "metadata": {},
   "outputs": [
    {
     "name": "stdout",
     "output_type": "stream",
     "text": [
      "{\n",
      "    \"repository\": {\n",
      "        \"repositoryArn\": \"arn:aws:ecr:us-east-1:216117377630:repository/uach/ingress\",\n",
      "        \"registryId\": \"216117377630\",\n",
      "        \"repositoryName\": \"uach/ingress\",\n",
      "        \"repositoryUri\": \"216117377630.dkr.ecr.us-east-1.amazonaws.com/uach/ingress\",\n",
      "        \"createdAt\": \"2021-07-20T14:26:52-04:00\",\n",
      "        \"imageTagMutability\": \"MUTABLE\",\n",
      "        \"imageScanningConfiguration\": {\n",
      "            \"scanOnPush\": true\n",
      "        },\n",
      "        \"encryptionConfiguration\": {\n",
      "            \"encryptionType\": \"AES256\"\n",
      "        }\n",
      "    }\n",
      "}\n"
     ]
    }
   ],
   "source": [
    "# Create a repository in Amazon ECR using the create-repository command\n",
    "!aws ecr create-repository --repository-name uach/ingress --image-scanning-configuration scanOnPush=true --image-tag-mutability MUTABLE"
   ]
  },
  {
   "cell_type": "code",
   "execution_count": 13,
   "id": "a39b8e2d-79ee-4eac-bce5-60aca840c852",
   "metadata": {},
   "outputs": [],
   "source": [
    "# Tag your image to match the repository name\n",
    "!docker tag uach/ingress:v0.0.1 216117377630.dkr.ecr.us-east-1.amazonaws.com/uach/ingress:v0.0.1"
   ]
  },
  {
   "cell_type": "code",
   "execution_count": 14,
   "id": "0524e84b-21f8-4734-be28-8af4d47f178b",
   "metadata": {},
   "outputs": [
    {
     "name": "stdout",
     "output_type": "stream",
     "text": [
      "The push refers to repository [216117377630.dkr.ecr.us-east-1.amazonaws.com/uach/ingress]\n",
      "\n",
      "\u001b[1B3d2b08a9: Preparing \n",
      "\u001b[1B1f765b88: Preparing \n",
      "\u001b[1Bdf665341: Preparing \n",
      "\u001b[1Be7b0feda: Preparing \n",
      "\u001b[1B5f6121b1: Preparing \n",
      "\u001b[1Bf8dc8183: Preparing \n",
      "\u001b[1B53d6caa6: Preparing \n",
      "\u001b[1B61a74f9d: Preparing \n",
      "\u001b[1B8656c7b9: Preparing \n",
      "\u001b[1Bd343a382: Pushed     305MB/294.7MB\u001b[8A\u001b[2K\u001b[9A\u001b[2K\u001b[9A\u001b[2K\u001b[6A\u001b[2K\u001b[9A\u001b[2K\u001b[9A\u001b[2K\u001b[9A\u001b[2K\u001b[9A\u001b[2K\u001b[9A\u001b[2K\u001b[9A\u001b[2K\u001b[7A\u001b[2K\u001b[9A\u001b[2K\u001b[10A\u001b[2K\u001b[6A\u001b[2K\u001b[9A\u001b[2K\u001b[9A\u001b[2K\u001b[9A\u001b[2K\u001b[6A\u001b[2K\u001b[9A\u001b[2K\u001b[9A\u001b[2K\u001b[9A\u001b[2K\u001b[6A\u001b[2K\u001b[3A\u001b[2K\u001b[9A\u001b[2K\u001b[4A\u001b[2K\u001b[9A\u001b[2K\u001b[5A\u001b[2K\u001b[9A\u001b[2K\u001b[9A\u001b[2K\u001b[4A\u001b[2K\u001b[5A\u001b[2K\u001b[6A\u001b[2K\u001b[5A\u001b[2K\u001b[9A\u001b[2K\u001b[4A\u001b[2K\u001b[9A\u001b[2K\u001b[4A\u001b[2K\u001b[5A\u001b[2K\u001b[4A\u001b[2K\u001b[5A\u001b[2K\u001b[4A\u001b[2K\u001b[9A\u001b[2K\u001b[5A\u001b[2K\u001b[4A\u001b[2K\u001b[6A\u001b[2K\u001b[9A\u001b[2K\u001b[5A\u001b[2K\u001b[9A\u001b[2K\u001b[5A\u001b[2K\u001b[5A\u001b[2K\u001b[9A\u001b[2K\u001b[5A\u001b[2K\u001b[3A\u001b[2K\u001b[5A\u001b[2K\u001b[9A\u001b[2K\u001b[5A\u001b[2K\u001b[6A\u001b[2K\u001b[9A\u001b[2K\u001b[5A\u001b[2K\u001b[9A\u001b[2K\u001b[9A\u001b[2K\u001b[5A\u001b[2K\u001b[5A\u001b[2K\u001b[9A\u001b[2K\u001b[5A\u001b[2K\u001b[6A\u001b[2K\u001b[9A\u001b[2K\u001b[5A\u001b[2K\u001b[2A\u001b[2K\u001b[9A\u001b[2K\u001b[5A\u001b[2K\u001b[9A\u001b[2K\u001b[5A\u001b[2K\u001b[5A\u001b[2K\u001b[9A\u001b[2K\u001b[5A\u001b[2K\u001b[5A\u001b[2K\u001b[5A\u001b[2K\u001b[9A\u001b[2K\u001b[9A\u001b[2K\u001b[5A\u001b[2K\u001b[5A\u001b[2K\u001b[5A\u001b[2K\u001b[9A\u001b[2K\u001b[5A\u001b[2K\u001b[9A\u001b[2K\u001b[9A\u001b[2K\u001b[5A\u001b[2K\u001b[5A\u001b[2K\u001b[9A\u001b[2K\u001b[9A\u001b[2K\u001b[9A\u001b[2K\u001b[9A\u001b[2K\u001b[2A\u001b[2K\u001b[9A\u001b[2K\u001b[6A\u001b[2K\u001b[1A\u001b[2K\u001b[5A\u001b[2K\u001b[9A\u001b[2K\u001b[1A\u001b[2K\u001b[9A\u001b[2K\u001b[1A\u001b[2K\u001b[9A\u001b[2K\u001b[1A\u001b[2K\u001b[9A\u001b[2K\u001b[6A\u001b[2K\u001b[9A\u001b[2K\u001b[5A\u001b[2K\u001b[1A\u001b[2K\u001b[5A\u001b[2K\u001b[9A\u001b[2K\u001b[5A\u001b[2K\u001b[1A\u001b[2K\u001b[5A\u001b[2K\u001b[6A\u001b[2K\u001b[5A\u001b[2K\u001b[1A\u001b[2K\u001b[5A\u001b[2K\u001b[1A\u001b[2K\u001b[5A\u001b[2K\u001b[1A\u001b[2K\u001b[5A\u001b[2K\u001b[1A\u001b[2K\u001b[9A\u001b[2K\u001b[1A\u001b[2K\u001b[9A\u001b[2K\u001b[1A\u001b[2K\u001b[9A\u001b[2K\u001b[5A\u001b[2K\u001b[1A\u001b[2K\u001b[1A\u001b[2K\u001b[1A\u001b[2K\u001b[9A\u001b[2K\u001b[5A\u001b[2K\u001b[9A\u001b[2K\u001b[5A\u001b[2K\u001b[9A\u001b[2K\u001b[1A\u001b[2K\u001b[5A\u001b[2K\u001b[5A\u001b[2K\u001b[6A\u001b[2K\u001b[5A\u001b[2K\u001b[1A\u001b[2K\u001b[5A\u001b[2K\u001b[6A\u001b[2K\u001b[5A\u001b[2K\u001b[9A\u001b[2K\u001b[5A\u001b[2K\u001b[1A\u001b[2K\u001b[6A\u001b[2K\u001b[1A\u001b[2K\u001b[1A\u001b[2K\u001b[6A\u001b[2K\u001b[5A\u001b[2K\u001b[9A\u001b[2K\u001b[5A\u001b[2K\u001b[9A\u001b[2K\u001b[5A\u001b[2K\u001b[9A\u001b[2K\u001b[5A\u001b[2K\u001b[9A\u001b[2K\u001b[6A\u001b[2K\u001b[1A\u001b[2K\u001b[1A\u001b[2K\u001b[9A\u001b[2K\u001b[6A\u001b[2K\u001b[9A\u001b[2K\u001b[1A\u001b[2K\u001b[6A\u001b[2K\u001b[9A\u001b[2K\u001b[9A\u001b[2K\u001b[6A\u001b[2K\u001b[1A\u001b[2K\u001b[1A\u001b[2K\u001b[6A\u001b[2K\u001b[9A\u001b[2K\u001b[1A\u001b[2K\u001b[9A\u001b[2K\u001b[1A\u001b[2K\u001b[9A\u001b[2K\u001b[1A\u001b[2K\u001b[1A\u001b[2K\u001b[9A\u001b[2K\u001b[6A\u001b[2K\u001b[9A\u001b[2K\u001b[1A\u001b[2K\u001b[9A\u001b[2K\u001b[1A\u001b[2K\u001b[6A\u001b[2K\u001b[1A\u001b[2K\u001b[1A\u001b[2K\u001b[6A\u001b[2K\u001b[9A\u001b[2K\u001b[9A\u001b[2K\u001b[6A\u001b[2K\u001b[6A\u001b[2K\u001b[1A\u001b[2K\u001b[9A\u001b[2K\u001b[1A\u001b[2K\u001b[6A\u001b[2K\u001b[9A\u001b[2K\u001b[6A\u001b[2K\u001b[9A\u001b[2K\u001b[9A\u001b[2K\u001b[6A\u001b[2K\u001b[9A\u001b[2K\u001b[9A\u001b[2K\u001b[9A\u001b[2K\u001b[6A\u001b[2K\u001b[9A\u001b[2K\u001b[6A\u001b[2K\u001b[9A\u001b[2K\u001b[1A\u001b[2K\u001b[9A\u001b[2K\u001b[1A\u001b[2K\u001b[6A\u001b[2K\u001b[6A\u001b[2K\u001b[6A\u001b[2K\u001b[1A\u001b[2K\u001b[6A\u001b[2K\u001b[1A\u001b[2K\u001b[6A\u001b[2K\u001b[1A\u001b[2K\u001b[6A\u001b[2K\u001b[6A\u001b[2K\u001b[1A\u001b[2K\u001b[1A\u001b[2K\u001b[1A\u001b[2K\u001b[1A\u001b[2K\u001b[1A\u001b[2K\u001b[1A\u001b[2K\u001b[1A\u001b[2K\u001b[1A\u001b[2K\u001b[1A\u001b[2K\u001b[1A\u001b[2K\u001b[9A\u001b[2K\u001b[1A\u001b[2K\u001b[1A\u001b[2K\u001b[1A\u001b[2K\u001b[1A\u001b[2K\u001b[1A\u001b[2K\u001b[1A\u001b[2K\u001b[1A\u001b[2K\u001b[1A\u001b[2K\u001b[6A\u001b[2K\u001b[1A\u001b[2K\u001b[1A\u001b[2K\u001b[1A\u001b[2K\u001b[1A\u001b[2K\u001b[1A\u001b[2Kv0.0.1: digest: sha256:351f1553c04f9e120e54c7e371754179999c749d5e6939366b66fef32f4a28b9 size: 2415\n"
     ]
    }
   ],
   "source": [
    "# Deploy the image to Amazon ECR using the docker push command.\n",
    "!docker push 216117377630.dkr.ecr.us-east-1.amazonaws.com/uach/ingress:v0.0.1"
   ]
  }
 ],
 "metadata": {
  "kernelspec": {
   "display_name": "Python 3 (ipykernel)",
   "language": "python",
   "name": "python3"
  },
  "language_info": {
   "codemirror_mode": {
    "name": "ipython",
    "version": 3
   },
   "file_extension": ".py",
   "mimetype": "text/x-python",
   "name": "python",
   "nbconvert_exporter": "python",
   "pygments_lexer": "ipython3",
   "version": "3.9.5"
  }
 },
 "nbformat": 4,
 "nbformat_minor": 5
}
